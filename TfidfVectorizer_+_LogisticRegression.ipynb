{
  "cells": [
    {
      "cell_type": "markdown",
      "metadata": {
        "id": "view-in-github",
        "colab_type": "text"
      },
      "source": [
        "<a href=\"https://colab.research.google.com/github/yk-Jeong/TIL/blob/main/TfidfVectorizer_%2B_LogisticRegression.ipynb\" target=\"_parent\"><img src=\"https://colab.research.google.com/assets/colab-badge.svg\" alt=\"Open In Colab\"/></a>"
      ]
    },
    {
      "cell_type": "markdown",
      "source": [
        "## Data load "
      ],
      "metadata": {
        "id": "oX_9sws0wB1E"
      },
      "id": "oX_9sws0wB1E"
    },
    {
      "cell_type": "code",
      "execution_count": 1,
      "id": "7aebeef3",
      "metadata": {
        "id": "7aebeef3"
      },
      "outputs": [],
      "source": [
        "import pandas as pd\n",
        "import numpy as np"
      ]
    },
    {
      "cell_type": "code",
      "source": [
        "from google.colab import drive \n",
        "drive.mount('/content/drive')"
      ],
      "metadata": {
        "colab": {
          "base_uri": "https://localhost:8080/"
        },
        "id": "eMmQC9F5rUoi",
        "outputId": "1f51e17b-972d-4291-b5ba-fd6126d5b01d"
      },
      "id": "eMmQC9F5rUoi",
      "execution_count": 2,
      "outputs": [
        {
          "output_type": "stream",
          "name": "stdout",
          "text": [
            "Mounted at /content/drive\n"
          ]
        }
      ]
    },
    {
      "cell_type": "code",
      "source": [
        "!unzip /content/drive/MyDrive/daicon/predict/open.zip"
      ],
      "metadata": {
        "colab": {
          "base_uri": "https://localhost:8080/"
        },
        "id": "pZyqX8F2rWhB",
        "outputId": "e0936889-f948-46da-e03c-be109222b1db"
      },
      "id": "pZyqX8F2rWhB",
      "execution_count": 3,
      "outputs": [
        {
          "output_type": "stream",
          "name": "stdout",
          "text": [
            "Archive:  /content/drive/MyDrive/daicon/predict/open.zip\n",
            "  inflating: sample_submission.csv   \n",
            "  inflating: test.csv                \n",
            "  inflating: train.csv               \n"
          ]
        }
      ]
    },
    {
      "cell_type": "code",
      "execution_count": 4,
      "id": "dc13fc3c-c1b1-4b77-9ea2-8742c3633345",
      "metadata": {
        "id": "dc13fc3c-c1b1-4b77-9ea2-8742c3633345"
      },
      "outputs": [],
      "source": [
        "train = pd.read_csv('./train.csv')\n",
        "test = pd.read_csv('./test.csv')"
      ]
    },
    {
      "cell_type": "markdown",
      "id": "fa1440cf-2e5e-4644-b9e2-0be81c46610b",
      "metadata": {
        "id": "fa1440cf-2e5e-4644-b9e2-0be81c46610b"
      },
      "source": [
        "## Data Preprocessing"
      ]
    },
    {
      "cell_type": "code",
      "source": [
        "train.head()"
      ],
      "metadata": {
        "colab": {
          "base_uri": "https://localhost:8080/",
          "height": 493
        },
        "id": "H_YIBwwcwOEZ",
        "outputId": "ff543384-6332-4c9a-ce8a-6f5a0e9487b5"
      },
      "id": "H_YIBwwcwOEZ",
      "execution_count": 5,
      "outputs": [
        {
          "output_type": "execute_result",
          "data": {
            "text/plain": [
              "           ID         first_party                    second_party  \\\n",
              "0  TRAIN_0000   Phil A. St. Amant              Herman A. Thompson   \n",
              "1  TRAIN_0001      Stephen Duncan                  Lawrence Owens   \n",
              "2  TRAIN_0002   Billy Joe Magwood  Tony Patterson, Warden, et al.   \n",
              "3  TRAIN_0003          Linkletter                          Walker   \n",
              "4  TRAIN_0004  William Earl Fikes                         Alabama   \n",
              "\n",
              "                                               facts  first_party_winner  \n",
              "0  On June 27, 1962, Phil St. Amant, a candidate ...                   1  \n",
              "1  Ramon Nelson was riding his bike when he suffe...                   0  \n",
              "2  An Alabama state court convicted Billy Joe Mag...                   1  \n",
              "3  Victor Linkletter was convicted in state court...                   0  \n",
              "4  On April 24, 1953 in Selma, Alabama, an intrud...                   1  "
            ],
            "text/html": [
              "\n",
              "  <div id=\"df-bb58af9c-c3ba-488e-a9d6-5f25913e4475\">\n",
              "    <div class=\"colab-df-container\">\n",
              "      <div>\n",
              "<style scoped>\n",
              "    .dataframe tbody tr th:only-of-type {\n",
              "        vertical-align: middle;\n",
              "    }\n",
              "\n",
              "    .dataframe tbody tr th {\n",
              "        vertical-align: top;\n",
              "    }\n",
              "\n",
              "    .dataframe thead th {\n",
              "        text-align: right;\n",
              "    }\n",
              "</style>\n",
              "<table border=\"1\" class=\"dataframe\">\n",
              "  <thead>\n",
              "    <tr style=\"text-align: right;\">\n",
              "      <th></th>\n",
              "      <th>ID</th>\n",
              "      <th>first_party</th>\n",
              "      <th>second_party</th>\n",
              "      <th>facts</th>\n",
              "      <th>first_party_winner</th>\n",
              "    </tr>\n",
              "  </thead>\n",
              "  <tbody>\n",
              "    <tr>\n",
              "      <th>0</th>\n",
              "      <td>TRAIN_0000</td>\n",
              "      <td>Phil A. St. Amant</td>\n",
              "      <td>Herman A. Thompson</td>\n",
              "      <td>On June 27, 1962, Phil St. Amant, a candidate ...</td>\n",
              "      <td>1</td>\n",
              "    </tr>\n",
              "    <tr>\n",
              "      <th>1</th>\n",
              "      <td>TRAIN_0001</td>\n",
              "      <td>Stephen Duncan</td>\n",
              "      <td>Lawrence Owens</td>\n",
              "      <td>Ramon Nelson was riding his bike when he suffe...</td>\n",
              "      <td>0</td>\n",
              "    </tr>\n",
              "    <tr>\n",
              "      <th>2</th>\n",
              "      <td>TRAIN_0002</td>\n",
              "      <td>Billy Joe Magwood</td>\n",
              "      <td>Tony Patterson, Warden, et al.</td>\n",
              "      <td>An Alabama state court convicted Billy Joe Mag...</td>\n",
              "      <td>1</td>\n",
              "    </tr>\n",
              "    <tr>\n",
              "      <th>3</th>\n",
              "      <td>TRAIN_0003</td>\n",
              "      <td>Linkletter</td>\n",
              "      <td>Walker</td>\n",
              "      <td>Victor Linkletter was convicted in state court...</td>\n",
              "      <td>0</td>\n",
              "    </tr>\n",
              "    <tr>\n",
              "      <th>4</th>\n",
              "      <td>TRAIN_0004</td>\n",
              "      <td>William Earl Fikes</td>\n",
              "      <td>Alabama</td>\n",
              "      <td>On April 24, 1953 in Selma, Alabama, an intrud...</td>\n",
              "      <td>1</td>\n",
              "    </tr>\n",
              "  </tbody>\n",
              "</table>\n",
              "</div>\n",
              "      <button class=\"colab-df-convert\" onclick=\"convertToInteractive('df-bb58af9c-c3ba-488e-a9d6-5f25913e4475')\"\n",
              "              title=\"Convert this dataframe to an interactive table.\"\n",
              "              style=\"display:none;\">\n",
              "        \n",
              "  <svg xmlns=\"http://www.w3.org/2000/svg\" height=\"24px\"viewBox=\"0 0 24 24\"\n",
              "       width=\"24px\">\n",
              "    <path d=\"M0 0h24v24H0V0z\" fill=\"none\"/>\n",
              "    <path d=\"M18.56 5.44l.94 2.06.94-2.06 2.06-.94-2.06-.94-.94-2.06-.94 2.06-2.06.94zm-11 1L8.5 8.5l.94-2.06 2.06-.94-2.06-.94L8.5 2.5l-.94 2.06-2.06.94zm10 10l.94 2.06.94-2.06 2.06-.94-2.06-.94-.94-2.06-.94 2.06-2.06.94z\"/><path d=\"M17.41 7.96l-1.37-1.37c-.4-.4-.92-.59-1.43-.59-.52 0-1.04.2-1.43.59L10.3 9.45l-7.72 7.72c-.78.78-.78 2.05 0 2.83L4 21.41c.39.39.9.59 1.41.59.51 0 1.02-.2 1.41-.59l7.78-7.78 2.81-2.81c.8-.78.8-2.07 0-2.86zM5.41 20L4 18.59l7.72-7.72 1.47 1.35L5.41 20z\"/>\n",
              "  </svg>\n",
              "      </button>\n",
              "      \n",
              "  <style>\n",
              "    .colab-df-container {\n",
              "      display:flex;\n",
              "      flex-wrap:wrap;\n",
              "      gap: 12px;\n",
              "    }\n",
              "\n",
              "    .colab-df-convert {\n",
              "      background-color: #E8F0FE;\n",
              "      border: none;\n",
              "      border-radius: 50%;\n",
              "      cursor: pointer;\n",
              "      display: none;\n",
              "      fill: #1967D2;\n",
              "      height: 32px;\n",
              "      padding: 0 0 0 0;\n",
              "      width: 32px;\n",
              "    }\n",
              "\n",
              "    .colab-df-convert:hover {\n",
              "      background-color: #E2EBFA;\n",
              "      box-shadow: 0px 1px 2px rgba(60, 64, 67, 0.3), 0px 1px 3px 1px rgba(60, 64, 67, 0.15);\n",
              "      fill: #174EA6;\n",
              "    }\n",
              "\n",
              "    [theme=dark] .colab-df-convert {\n",
              "      background-color: #3B4455;\n",
              "      fill: #D2E3FC;\n",
              "    }\n",
              "\n",
              "    [theme=dark] .colab-df-convert:hover {\n",
              "      background-color: #434B5C;\n",
              "      box-shadow: 0px 1px 3px 1px rgba(0, 0, 0, 0.15);\n",
              "      filter: drop-shadow(0px 1px 2px rgba(0, 0, 0, 0.3));\n",
              "      fill: #FFFFFF;\n",
              "    }\n",
              "  </style>\n",
              "\n",
              "      <script>\n",
              "        const buttonEl =\n",
              "          document.querySelector('#df-bb58af9c-c3ba-488e-a9d6-5f25913e4475 button.colab-df-convert');\n",
              "        buttonEl.style.display =\n",
              "          google.colab.kernel.accessAllowed ? 'block' : 'none';\n",
              "\n",
              "        async function convertToInteractive(key) {\n",
              "          const element = document.querySelector('#df-bb58af9c-c3ba-488e-a9d6-5f25913e4475');\n",
              "          const dataTable =\n",
              "            await google.colab.kernel.invokeFunction('convertToInteractive',\n",
              "                                                     [key], {});\n",
              "          if (!dataTable) return;\n",
              "\n",
              "          const docLinkHtml = 'Like what you see? Visit the ' +\n",
              "            '<a target=\"_blank\" href=https://colab.research.google.com/notebooks/data_table.ipynb>data table notebook</a>'\n",
              "            + ' to learn more about interactive tables.';\n",
              "          element.innerHTML = '';\n",
              "          dataTable['output_type'] = 'display_data';\n",
              "          await google.colab.output.renderOutput(dataTable, element);\n",
              "          const docLink = document.createElement('div');\n",
              "          docLink.innerHTML = docLinkHtml;\n",
              "          element.appendChild(docLink);\n",
              "        }\n",
              "      </script>\n",
              "    </div>\n",
              "  </div>\n",
              "  "
            ]
          },
          "metadata": {},
          "execution_count": 5
        }
      ]
    },
    {
      "cell_type": "code",
      "source": [
        "test.head()"
      ],
      "metadata": {
        "colab": {
          "base_uri": "https://localhost:8080/",
          "height": 406
        },
        "id": "CDl7ZKECy3T5",
        "outputId": "133b9c66-7ca1-456a-ee51-a178e7a9d558"
      },
      "id": "CDl7ZKECy3T5",
      "execution_count": 6,
      "outputs": [
        {
          "output_type": "execute_result",
          "data": {
            "text/plain": [
              "          ID                                        first_party  \\\n",
              "0  TEST_0000                                            Salerno   \n",
              "1  TEST_0001             Milberg Weiss Bershad Hynes and Lerach   \n",
              "2  TEST_0002  No. 07-582\\t Title: \\t Federal Communications ...   \n",
              "3  TEST_0003                                    Harold Kaufman    \n",
              "4  TEST_0004                                             Berger   \n",
              "\n",
              "                            second_party  \\\n",
              "0                          United States   \n",
              "1                          Lexecon, Inc.   \n",
              "2  Fox Television Stations, Inc., et al.   \n",
              "3                          United States   \n",
              "4                                 Hanlon   \n",
              "\n",
              "                                               facts  \n",
              "0  The 1984 Bail Reform Act allowed the federal c...  \n",
              "1  Lexecon Inc. was a defendant in a class action...  \n",
              "2  In 2002 and 2003, Fox Television Stations broa...  \n",
              "3  During his trial for armed robbery of a federa...  \n",
              "4  In 1993, a magistrate judge issued a warrant a...  "
            ],
            "text/html": [
              "\n",
              "  <div id=\"df-e524d907-54c4-4597-b1db-56a3be4d28bd\">\n",
              "    <div class=\"colab-df-container\">\n",
              "      <div>\n",
              "<style scoped>\n",
              "    .dataframe tbody tr th:only-of-type {\n",
              "        vertical-align: middle;\n",
              "    }\n",
              "\n",
              "    .dataframe tbody tr th {\n",
              "        vertical-align: top;\n",
              "    }\n",
              "\n",
              "    .dataframe thead th {\n",
              "        text-align: right;\n",
              "    }\n",
              "</style>\n",
              "<table border=\"1\" class=\"dataframe\">\n",
              "  <thead>\n",
              "    <tr style=\"text-align: right;\">\n",
              "      <th></th>\n",
              "      <th>ID</th>\n",
              "      <th>first_party</th>\n",
              "      <th>second_party</th>\n",
              "      <th>facts</th>\n",
              "    </tr>\n",
              "  </thead>\n",
              "  <tbody>\n",
              "    <tr>\n",
              "      <th>0</th>\n",
              "      <td>TEST_0000</td>\n",
              "      <td>Salerno</td>\n",
              "      <td>United States</td>\n",
              "      <td>The 1984 Bail Reform Act allowed the federal c...</td>\n",
              "    </tr>\n",
              "    <tr>\n",
              "      <th>1</th>\n",
              "      <td>TEST_0001</td>\n",
              "      <td>Milberg Weiss Bershad Hynes and Lerach</td>\n",
              "      <td>Lexecon, Inc.</td>\n",
              "      <td>Lexecon Inc. was a defendant in a class action...</td>\n",
              "    </tr>\n",
              "    <tr>\n",
              "      <th>2</th>\n",
              "      <td>TEST_0002</td>\n",
              "      <td>No. 07-582\\t Title: \\t Federal Communications ...</td>\n",
              "      <td>Fox Television Stations, Inc., et al.</td>\n",
              "      <td>In 2002 and 2003, Fox Television Stations broa...</td>\n",
              "    </tr>\n",
              "    <tr>\n",
              "      <th>3</th>\n",
              "      <td>TEST_0003</td>\n",
              "      <td>Harold Kaufman</td>\n",
              "      <td>United States</td>\n",
              "      <td>During his trial for armed robbery of a federa...</td>\n",
              "    </tr>\n",
              "    <tr>\n",
              "      <th>4</th>\n",
              "      <td>TEST_0004</td>\n",
              "      <td>Berger</td>\n",
              "      <td>Hanlon</td>\n",
              "      <td>In 1993, a magistrate judge issued a warrant a...</td>\n",
              "    </tr>\n",
              "  </tbody>\n",
              "</table>\n",
              "</div>\n",
              "      <button class=\"colab-df-convert\" onclick=\"convertToInteractive('df-e524d907-54c4-4597-b1db-56a3be4d28bd')\"\n",
              "              title=\"Convert this dataframe to an interactive table.\"\n",
              "              style=\"display:none;\">\n",
              "        \n",
              "  <svg xmlns=\"http://www.w3.org/2000/svg\" height=\"24px\"viewBox=\"0 0 24 24\"\n",
              "       width=\"24px\">\n",
              "    <path d=\"M0 0h24v24H0V0z\" fill=\"none\"/>\n",
              "    <path d=\"M18.56 5.44l.94 2.06.94-2.06 2.06-.94-2.06-.94-.94-2.06-.94 2.06-2.06.94zm-11 1L8.5 8.5l.94-2.06 2.06-.94-2.06-.94L8.5 2.5l-.94 2.06-2.06.94zm10 10l.94 2.06.94-2.06 2.06-.94-2.06-.94-.94-2.06-.94 2.06-2.06.94z\"/><path d=\"M17.41 7.96l-1.37-1.37c-.4-.4-.92-.59-1.43-.59-.52 0-1.04.2-1.43.59L10.3 9.45l-7.72 7.72c-.78.78-.78 2.05 0 2.83L4 21.41c.39.39.9.59 1.41.59.51 0 1.02-.2 1.41-.59l7.78-7.78 2.81-2.81c.8-.78.8-2.07 0-2.86zM5.41 20L4 18.59l7.72-7.72 1.47 1.35L5.41 20z\"/>\n",
              "  </svg>\n",
              "      </button>\n",
              "      \n",
              "  <style>\n",
              "    .colab-df-container {\n",
              "      display:flex;\n",
              "      flex-wrap:wrap;\n",
              "      gap: 12px;\n",
              "    }\n",
              "\n",
              "    .colab-df-convert {\n",
              "      background-color: #E8F0FE;\n",
              "      border: none;\n",
              "      border-radius: 50%;\n",
              "      cursor: pointer;\n",
              "      display: none;\n",
              "      fill: #1967D2;\n",
              "      height: 32px;\n",
              "      padding: 0 0 0 0;\n",
              "      width: 32px;\n",
              "    }\n",
              "\n",
              "    .colab-df-convert:hover {\n",
              "      background-color: #E2EBFA;\n",
              "      box-shadow: 0px 1px 2px rgba(60, 64, 67, 0.3), 0px 1px 3px 1px rgba(60, 64, 67, 0.15);\n",
              "      fill: #174EA6;\n",
              "    }\n",
              "\n",
              "    [theme=dark] .colab-df-convert {\n",
              "      background-color: #3B4455;\n",
              "      fill: #D2E3FC;\n",
              "    }\n",
              "\n",
              "    [theme=dark] .colab-df-convert:hover {\n",
              "      background-color: #434B5C;\n",
              "      box-shadow: 0px 1px 3px 1px rgba(0, 0, 0, 0.15);\n",
              "      filter: drop-shadow(0px 1px 2px rgba(0, 0, 0, 0.3));\n",
              "      fill: #FFFFFF;\n",
              "    }\n",
              "  </style>\n",
              "\n",
              "      <script>\n",
              "        const buttonEl =\n",
              "          document.querySelector('#df-e524d907-54c4-4597-b1db-56a3be4d28bd button.colab-df-convert');\n",
              "        buttonEl.style.display =\n",
              "          google.colab.kernel.accessAllowed ? 'block' : 'none';\n",
              "\n",
              "        async function convertToInteractive(key) {\n",
              "          const element = document.querySelector('#df-e524d907-54c4-4597-b1db-56a3be4d28bd');\n",
              "          const dataTable =\n",
              "            await google.colab.kernel.invokeFunction('convertToInteractive',\n",
              "                                                     [key], {});\n",
              "          if (!dataTable) return;\n",
              "\n",
              "          const docLinkHtml = 'Like what you see? Visit the ' +\n",
              "            '<a target=\"_blank\" href=https://colab.research.google.com/notebooks/data_table.ipynb>data table notebook</a>'\n",
              "            + ' to learn more about interactive tables.';\n",
              "          element.innerHTML = '';\n",
              "          dataTable['output_type'] = 'display_data';\n",
              "          await google.colab.output.renderOutput(dataTable, element);\n",
              "          const docLink = document.createElement('div');\n",
              "          docLink.innerHTML = docLinkHtml;\n",
              "          element.appendChild(docLink);\n",
              "        }\n",
              "      </script>\n",
              "    </div>\n",
              "  </div>\n",
              "  "
            ]
          },
          "metadata": {},
          "execution_count": 6
        }
      ]
    },
    {
      "cell_type": "code",
      "execution_count": 7,
      "id": "8a440bd5-19ee-4c3c-b21e-5c0eb24bb826",
      "metadata": {
        "id": "8a440bd5-19ee-4c3c-b21e-5c0eb24bb826"
      },
      "outputs": [],
      "source": [
        "from sklearn.feature_extraction.text import TfidfVectorizer\n",
        "vectorizer = TfidfVectorizer()\n",
        "\n",
        "def get_vector(vectorizer, df, train_mode):\n",
        "    if train_mode:\n",
        "        X_facts = vectorizer.fit_transform(df['facts'])\n",
        "    else:\n",
        "        X_facts = vectorizer.transform(df['facts'])\n",
        "    X_party1 = vectorizer.transform(df['first_party'])\n",
        "    X_party2 = vectorizer.transform(df['second_party'])\n",
        "    \n",
        "    X = np.concatenate([X_party1.todense(), X_party2.todense(), X_facts.todense()], axis=1)\n",
        "    return X"
      ]
    },
    {
      "cell_type": "code",
      "execution_count": 8,
      "id": "fae10e03-4a60-4dd6-988d-01e80d704cb4",
      "metadata": {
        "id": "fae10e03-4a60-4dd6-988d-01e80d704cb4"
      },
      "outputs": [],
      "source": [
        "X = get_vector(vectorizer, train, True)\n",
        "y = train[\"first_party_winner\"]\n",
        "X_test = get_vector(vectorizer, test, False)"
      ]
    },
    {
      "cell_type": "markdown",
      "source": [
        "## Valid set split "
      ],
      "metadata": {
        "id": "8rpni0h1w8eS"
      },
      "id": "8rpni0h1w8eS"
    },
    {
      "cell_type": "code",
      "source": [
        "from sklearn.model_selection import train_test_split\n",
        "X_train, X_valid, y_train, y_valid = train_test_split(X, y, test_size=0.2, stratify=y, random_state=42)"
      ],
      "metadata": {
        "id": "RMp6kRVMw_Le"
      },
      "id": "RMp6kRVMw_Le",
      "execution_count": 9,
      "outputs": []
    },
    {
      "cell_type": "code",
      "source": [
        "X_train.shape, X_valid.shape, y_train.shape, y_valid.shape"
      ],
      "metadata": {
        "colab": {
          "base_uri": "https://localhost:8080/"
        },
        "id": "E2w9eyX7HON9",
        "outputId": "227bd606-f92e-4a43-f074-452324aa3c18"
      },
      "id": "E2w9eyX7HON9",
      "execution_count": 10,
      "outputs": [
        {
          "output_type": "execute_result",
          "data": {
            "text/plain": [
              "((1982, 52377), (496, 52377), (1982,), (496,))"
            ]
          },
          "metadata": {},
          "execution_count": 10
        }
      ]
    },
    {
      "cell_type": "markdown",
      "id": "7e8b3119-8c8b-47e9-a73b-80513b6d07f0",
      "metadata": {
        "id": "7e8b3119-8c8b-47e9-a73b-80513b6d07f0"
      },
      "source": [
        "## Define Model & Train"
      ]
    },
    {
      "cell_type": "markdown",
      "source": [
        "### Random Forest "
      ],
      "metadata": {
        "id": "pqZhJ6YLspjO"
      },
      "id": "pqZhJ6YLspjO"
    },
    {
      "cell_type": "code",
      "source": [
        "from sklearn.ensemble import RandomForestClassifier\n",
        "rf = RandomForestClassifier()\n",
        "rf.fit(X_train, y_train)"
      ],
      "metadata": {
        "colab": {
          "base_uri": "https://localhost:8080/",
          "height": 437
        },
        "id": "FSimUZokk0A2",
        "outputId": "5e0de8ab-3869-42e3-906e-5feaf915b85a"
      },
      "id": "FSimUZokk0A2",
      "execution_count": 11,
      "outputs": [
        {
          "output_type": "error",
          "ename": "TypeError",
          "evalue": "ignored",
          "traceback": [
            "\u001b[0;31m---------------------------------------------------------------------------\u001b[0m",
            "\u001b[0;31mTypeError\u001b[0m                                 Traceback (most recent call last)",
            "\u001b[0;32m<ipython-input-11-2ae5f042fe42>\u001b[0m in \u001b[0;36m<cell line: 3>\u001b[0;34m()\u001b[0m\n\u001b[1;32m      1\u001b[0m \u001b[0;32mfrom\u001b[0m \u001b[0msklearn\u001b[0m\u001b[0;34m.\u001b[0m\u001b[0mensemble\u001b[0m \u001b[0;32mimport\u001b[0m \u001b[0mRandomForestClassifier\u001b[0m\u001b[0;34m\u001b[0m\u001b[0;34m\u001b[0m\u001b[0m\n\u001b[1;32m      2\u001b[0m \u001b[0mrf\u001b[0m \u001b[0;34m=\u001b[0m \u001b[0mRandomForestClassifier\u001b[0m\u001b[0;34m(\u001b[0m\u001b[0;34m)\u001b[0m\u001b[0;34m\u001b[0m\u001b[0;34m\u001b[0m\u001b[0m\n\u001b[0;32m----> 3\u001b[0;31m \u001b[0mrf\u001b[0m\u001b[0;34m.\u001b[0m\u001b[0mfit\u001b[0m\u001b[0;34m(\u001b[0m\u001b[0mX_train\u001b[0m\u001b[0;34m,\u001b[0m \u001b[0my_train\u001b[0m\u001b[0;34m)\u001b[0m\u001b[0;34m\u001b[0m\u001b[0;34m\u001b[0m\u001b[0m\n\u001b[0m",
            "\u001b[0;32m/usr/local/lib/python3.10/dist-packages/sklearn/ensemble/_forest.py\u001b[0m in \u001b[0;36mfit\u001b[0;34m(self, X, y, sample_weight)\u001b[0m\n\u001b[1;32m    343\u001b[0m         \u001b[0;32mif\u001b[0m \u001b[0missparse\u001b[0m\u001b[0;34m(\u001b[0m\u001b[0my\u001b[0m\u001b[0;34m)\u001b[0m\u001b[0;34m:\u001b[0m\u001b[0;34m\u001b[0m\u001b[0;34m\u001b[0m\u001b[0m\n\u001b[1;32m    344\u001b[0m             \u001b[0;32mraise\u001b[0m \u001b[0mValueError\u001b[0m\u001b[0;34m(\u001b[0m\u001b[0;34m\"sparse multilabel-indicator for y is not supported.\"\u001b[0m\u001b[0;34m)\u001b[0m\u001b[0;34m\u001b[0m\u001b[0;34m\u001b[0m\u001b[0m\n\u001b[0;32m--> 345\u001b[0;31m         X, y = self._validate_data(\n\u001b[0m\u001b[1;32m    346\u001b[0m             \u001b[0mX\u001b[0m\u001b[0;34m,\u001b[0m \u001b[0my\u001b[0m\u001b[0;34m,\u001b[0m \u001b[0mmulti_output\u001b[0m\u001b[0;34m=\u001b[0m\u001b[0;32mTrue\u001b[0m\u001b[0;34m,\u001b[0m \u001b[0maccept_sparse\u001b[0m\u001b[0;34m=\u001b[0m\u001b[0;34m\"csc\"\u001b[0m\u001b[0;34m,\u001b[0m \u001b[0mdtype\u001b[0m\u001b[0;34m=\u001b[0m\u001b[0mDTYPE\u001b[0m\u001b[0;34m\u001b[0m\u001b[0;34m\u001b[0m\u001b[0m\n\u001b[1;32m    347\u001b[0m         )\n",
            "\u001b[0;32m/usr/local/lib/python3.10/dist-packages/sklearn/base.py\u001b[0m in \u001b[0;36m_validate_data\u001b[0;34m(self, X, y, reset, validate_separately, **check_params)\u001b[0m\n\u001b[1;32m    582\u001b[0m                 \u001b[0my\u001b[0m \u001b[0;34m=\u001b[0m \u001b[0mcheck_array\u001b[0m\u001b[0;34m(\u001b[0m\u001b[0my\u001b[0m\u001b[0;34m,\u001b[0m \u001b[0minput_name\u001b[0m\u001b[0;34m=\u001b[0m\u001b[0;34m\"y\"\u001b[0m\u001b[0;34m,\u001b[0m \u001b[0;34m**\u001b[0m\u001b[0mcheck_y_params\u001b[0m\u001b[0;34m)\u001b[0m\u001b[0;34m\u001b[0m\u001b[0;34m\u001b[0m\u001b[0m\n\u001b[1;32m    583\u001b[0m             \u001b[0;32melse\u001b[0m\u001b[0;34m:\u001b[0m\u001b[0;34m\u001b[0m\u001b[0;34m\u001b[0m\u001b[0m\n\u001b[0;32m--> 584\u001b[0;31m                 \u001b[0mX\u001b[0m\u001b[0;34m,\u001b[0m \u001b[0my\u001b[0m \u001b[0;34m=\u001b[0m \u001b[0mcheck_X_y\u001b[0m\u001b[0;34m(\u001b[0m\u001b[0mX\u001b[0m\u001b[0;34m,\u001b[0m \u001b[0my\u001b[0m\u001b[0;34m,\u001b[0m \u001b[0;34m**\u001b[0m\u001b[0mcheck_params\u001b[0m\u001b[0;34m)\u001b[0m\u001b[0;34m\u001b[0m\u001b[0;34m\u001b[0m\u001b[0m\n\u001b[0m\u001b[1;32m    585\u001b[0m             \u001b[0mout\u001b[0m \u001b[0;34m=\u001b[0m \u001b[0mX\u001b[0m\u001b[0;34m,\u001b[0m \u001b[0my\u001b[0m\u001b[0;34m\u001b[0m\u001b[0;34m\u001b[0m\u001b[0m\n\u001b[1;32m    586\u001b[0m \u001b[0;34m\u001b[0m\u001b[0m\n",
            "\u001b[0;32m/usr/local/lib/python3.10/dist-packages/sklearn/utils/validation.py\u001b[0m in \u001b[0;36mcheck_X_y\u001b[0;34m(X, y, accept_sparse, accept_large_sparse, dtype, order, copy, force_all_finite, ensure_2d, allow_nd, multi_output, ensure_min_samples, ensure_min_features, y_numeric, estimator)\u001b[0m\n\u001b[1;32m   1104\u001b[0m         )\n\u001b[1;32m   1105\u001b[0m \u001b[0;34m\u001b[0m\u001b[0m\n\u001b[0;32m-> 1106\u001b[0;31m     X = check_array(\n\u001b[0m\u001b[1;32m   1107\u001b[0m         \u001b[0mX\u001b[0m\u001b[0;34m,\u001b[0m\u001b[0;34m\u001b[0m\u001b[0;34m\u001b[0m\u001b[0m\n\u001b[1;32m   1108\u001b[0m         \u001b[0maccept_sparse\u001b[0m\u001b[0;34m=\u001b[0m\u001b[0maccept_sparse\u001b[0m\u001b[0;34m,\u001b[0m\u001b[0;34m\u001b[0m\u001b[0;34m\u001b[0m\u001b[0m\n",
            "\u001b[0;32m/usr/local/lib/python3.10/dist-packages/sklearn/utils/validation.py\u001b[0m in \u001b[0;36mcheck_array\u001b[0;34m(array, accept_sparse, accept_large_sparse, dtype, order, copy, force_all_finite, ensure_2d, allow_nd, ensure_min_samples, ensure_min_features, estimator, input_name)\u001b[0m\n\u001b[1;32m    735\u001b[0m     \"\"\"\n\u001b[1;32m    736\u001b[0m     \u001b[0;32mif\u001b[0m \u001b[0misinstance\u001b[0m\u001b[0;34m(\u001b[0m\u001b[0marray\u001b[0m\u001b[0;34m,\u001b[0m \u001b[0mnp\u001b[0m\u001b[0;34m.\u001b[0m\u001b[0mmatrix\u001b[0m\u001b[0;34m)\u001b[0m\u001b[0;34m:\u001b[0m\u001b[0;34m\u001b[0m\u001b[0;34m\u001b[0m\u001b[0m\n\u001b[0;32m--> 737\u001b[0;31m         raise TypeError(\n\u001b[0m\u001b[1;32m    738\u001b[0m             \u001b[0;34m\"np.matrix is not supported. Please convert to a numpy array with \"\u001b[0m\u001b[0;34m\u001b[0m\u001b[0;34m\u001b[0m\u001b[0m\n\u001b[1;32m    739\u001b[0m             \u001b[0;34m\"np.asarray. For more information see: \"\u001b[0m\u001b[0;34m\u001b[0m\u001b[0;34m\u001b[0m\u001b[0m\n",
            "\u001b[0;31mTypeError\u001b[0m: np.matrix is not supported. Please convert to a numpy array with np.asarray. For more information see: https://numpy.org/doc/stable/reference/generated/numpy.matrix.html"
          ]
        }
      ]
    },
    {
      "cell_type": "markdown",
      "source": [
        "### Logistic Regression "
      ],
      "metadata": {
        "id": "SkqqqwSlk29N"
      },
      "id": "SkqqqwSlk29N"
    },
    {
      "cell_type": "code",
      "source": [
        "X_train = np.asarray(X_train)\n",
        "X_test = np.asarray(X_test)\n",
        "X_valid = np.asarray(X_valid)"
      ],
      "metadata": {
        "id": "bjExhR4C9Pes"
      },
      "id": "bjExhR4C9Pes",
      "execution_count": 12,
      "outputs": []
    },
    {
      "cell_type": "code",
      "source": [
        "from sklearn.model_selection import GridSearchCV\n",
        "\n",
        "params = {\n",
        "    'fit_intercept': [True], \n",
        "    'intercept_scaling': [1], \n",
        "    'class_weight': [None],\n",
        "    'random_state': [None],   \n",
        "    'multi_class': ['auto'], \n",
        "    'verbose': [1], \n",
        "    'warm_start': [False],\n",
        "    'n_jobs': [None], \n",
        "    'l1_ratio': [None],\n",
        "    'solver': ['lbfgs', 'liblinear', 'newton-cg', 'sag', 'saga'],\n",
        "    'penalty': ['l1', 'l2', 'elasticnet'], \n",
        "    'C': [0.01, 0.1, 1, 5, 10], \n",
        "    'max_iter': [100, 200, 500, 1000],\n",
        "    'tol':[1e-4],\n",
        "    'warm_start':[True]\n",
        "    }"
      ],
      "metadata": {
        "id": "5Ey-72u8xx7m"
      },
      "id": "5Ey-72u8xx7m",
      "execution_count": 25,
      "outputs": []
    },
    {
      "cell_type": "code",
      "source": [
        "from sklearn.linear_model import LogisticRegression\n",
        "lr = LogisticRegression(C=10, max_iter=10000)\n",
        "lr.fit(X_train, y_train)\n",
        "pred = lr.predict(X_test)\n",
        "\n",
        "#lrc_grid = GridSearchCV(lr, param_grid = params, scoring='roc_auc', cv = 5)\n",
        "#lrc_grid.fit(X_train, y_train)\n",
        "\n",
        "#print('최적 하이퍼 파라미터:', lrc_grid.best_params_, '\\nROC AUC Score:', round(lrc_grid.best_score_, 4))"
      ],
      "metadata": {
        "id": "a27r0047m7e4"
      },
      "id": "a27r0047m7e4",
      "execution_count": 26,
      "outputs": []
    },
    {
      "cell_type": "markdown",
      "source": [
        "### Hyperparameters search: GridSearch"
      ],
      "metadata": {
        "id": "v4k82wyrx0Ug"
      },
      "id": "v4k82wyrx0Ug"
    },
    {
      "cell_type": "markdown",
      "source": [
        "### XGBoost"
      ],
      "metadata": {
        "id": "UisOdmZmk-FS"
      },
      "id": "UisOdmZmk-FS"
    },
    {
      "cell_type": "code",
      "source": [
        "from xgboost import XGBClassifier\n",
        "from sklearn.metrics import roc_auc_score\n",
        "\n",
        "xgb_clf = XGBClassifier(n_estimators=100, random_state=0)\n",
        "xgb_clf.fit(X_train, y_train, early_stopping_rounds=30,\n",
        "            eval_metric=\"auc\", eval_set=[(X_valid, y_valid)])"
      ],
      "metadata": {
        "id": "VyCLf86blAdt"
      },
      "id": "VyCLf86blAdt",
      "execution_count": null,
      "outputs": []
    },
    {
      "cell_type": "markdown",
      "source": [
        "### LightGBM"
      ],
      "metadata": {
        "id": "KvJgwqrMs23c"
      },
      "id": "KvJgwqrMs23c"
    },
    {
      "cell_type": "code",
      "source": [
        "X_train = np.asarray(X_train)\n",
        "X_test = np.asarray(X_test)\n",
        "X_valid = np.asarray(X_valid)\n",
        "\n",
        "y_train = np.asarray(y_train)\n",
        "y_valid = np.asarray(y_valid)"
      ],
      "metadata": {
        "id": "IiuAVMk3MxTN"
      },
      "id": "IiuAVMk3MxTN",
      "execution_count": 42,
      "outputs": []
    },
    {
      "cell_type": "code",
      "source": [
        "from lightgbm import LGBMClassifier\n",
        "evals = [(X_valid, y_valid)]\n",
        "lgbm_clf = LGBMClassifier(n_estimators=500) \n",
        "lgbm_clf.fit(X_train, y_train, early_stopping_rounds=100, eval_metric=\"auc\", eval_set=evals, verbose=True)"
      ],
      "metadata": {
        "id": "ijp3ViillZ5d"
      },
      "id": "ijp3ViillZ5d",
      "execution_count": null,
      "outputs": []
    },
    {
      "cell_type": "markdown",
      "source": [
        "## Hyperparameter tunning: Optuna "
      ],
      "metadata": {
        "id": "xhMi_Wiy3SfS"
      },
      "id": "xhMi_Wiy3SfS"
    },
    {
      "cell_type": "code",
      "source": [
        "import optuna "
      ],
      "metadata": {
        "id": "u0P0ZQLR3VKD"
      },
      "id": "u0P0ZQLR3VKD",
      "execution_count": null,
      "outputs": []
    },
    {
      "cell_type": "code",
      "source": [],
      "metadata": {
        "id": "Gh0ESIvMVw_f"
      },
      "id": "Gh0ESIvMVw_f",
      "execution_count": null,
      "outputs": []
    },
    {
      "cell_type": "markdown",
      "source": [
        "## Evaluation and Validation "
      ],
      "metadata": {
        "id": "ui2VFldpjKVg"
      },
      "id": "ui2VFldpjKVg"
    },
    {
      "cell_type": "code",
      "source": [
        "lr.score(X_train, y_train), lr.score(X_valid, y_valid)"
      ],
      "metadata": {
        "colab": {
          "base_uri": "https://localhost:8080/"
        },
        "id": "P331mYh-nkYi",
        "outputId": "048fb927-ea00-44cd-d58b-37a7c8a09aa9"
      },
      "id": "P331mYh-nkYi",
      "execution_count": 27,
      "outputs": [
        {
          "output_type": "execute_result",
          "data": {
            "text/plain": [
              "(1.0, 0.6370967741935484)"
            ]
          },
          "metadata": {},
          "execution_count": 27
        }
      ]
    },
    {
      "cell_type": "code",
      "source": [
        "from sklearn.metrics import roc "
      ],
      "metadata": {
        "id": "p9w42fs1jM2P"
      },
      "id": "p9w42fs1jM2P",
      "execution_count": null,
      "outputs": []
    },
    {
      "cell_type": "markdown",
      "id": "a4aa8041-458a-4404-8bb1-d0169d4dd64d",
      "metadata": {
        "id": "a4aa8041-458a-4404-8bb1-d0169d4dd64d"
      },
      "source": [
        "## Inference & Submission"
      ]
    },
    {
      "cell_type": "code",
      "execution_count": 22,
      "id": "3d774bbb-d9f1-473c-b7f3-b506e7299007",
      "metadata": {
        "id": "3d774bbb-d9f1-473c-b7f3-b506e7299007"
      },
      "outputs": [],
      "source": [
        "submit = pd.read_csv('./sample_submission.csv')"
      ]
    },
    {
      "cell_type": "code",
      "execution_count": 28,
      "id": "07b2fe58",
      "metadata": {
        "id": "07b2fe58"
      },
      "outputs": [],
      "source": [
        "pred = lr.predict(X_test)"
      ]
    },
    {
      "cell_type": "code",
      "execution_count": 29,
      "id": "1abd55c4",
      "metadata": {
        "colab": {
          "base_uri": "https://localhost:8080/"
        },
        "id": "1abd55c4",
        "outputId": "370579e4-44ce-41ec-fab2-d6785e8b0399"
      },
      "outputs": [
        {
          "output_type": "stream",
          "name": "stdout",
          "text": [
            "Done\n"
          ]
        }
      ],
      "source": [
        "submit['first_party_winner'] = pred\n",
        "submit.to_csv('./submit_lr_0607.csv', index=False)\n",
        "print('Done')"
      ]
    },
    {
      "cell_type": "code",
      "source": [],
      "metadata": {
        "id": "xMs7F9NioJXn"
      },
      "id": "xMs7F9NioJXn",
      "execution_count": null,
      "outputs": []
    }
  ],
  "metadata": {
    "kernelspec": {
      "display_name": "PyTorch 1.14 (NGC 22.12/Python 3.8) on Backend.AI",
      "language": "python",
      "name": "python3"
    },
    "language_info": {
      "codemirror_mode": {
        "name": "ipython",
        "version": 3
      },
      "file_extension": ".py",
      "mimetype": "text/x-python",
      "name": "python",
      "nbconvert_exporter": "python",
      "pygments_lexer": "ipython3",
      "version": "3.8.10"
    },
    "colab": {
      "provenance": [],
      "collapsed_sections": [
        "UisOdmZmk-FS",
        "KvJgwqrMs23c",
        "xhMi_Wiy3SfS"
      ],
      "include_colab_link": true
    }
  },
  "nbformat": 4,
  "nbformat_minor": 5
}